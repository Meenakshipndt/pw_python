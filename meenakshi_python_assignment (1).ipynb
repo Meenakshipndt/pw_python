{
 "cells": [
  {
   "cell_type": "markdown",
   "id": "a3f239f9-7dca-48fa-bf46-645b5d70c992",
   "metadata": {},
   "source": [
    "Welcome to Colab!\n",
    "Explore the Gemini API\n",
    "The Gemini API gives you access to Gemini models created by Google DeepMind. Gemini models are built from the ground up to be multimodal, so you can reason seamlessly across text, images, code, and audio.\n",
    "\n",
    "How to get started\n",
    "Go to Google AI Studio and log in with your Google account.\n",
    "Create an API key.\n",
    "Use a quickstart for Python, or call the REST API using c"
   ]
  }
 ],
 "metadata": {
  "kernelspec": {
   "display_name": "Python 3 (ipykernel)",
   "language": "python",
   "name": "python3"
  },
  "language_info": {
   "codemirror_mode": {
    "name": "ipython",
    "version": 3
   },
   "file_extension": ".py",
   "mimetype": "text/x-python",
   "name": "python",
   "nbconvert_exporter": "python",
   "pygments_lexer": "ipython3",
   "version": "3.10.8"
  }
 },
 "nbformat": 4,
 "nbformat_minor": 5
}
